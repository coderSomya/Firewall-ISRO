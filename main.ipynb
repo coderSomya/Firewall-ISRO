{
 "cells": [
  {
   "cell_type": "code",
   "execution_count": 9,
   "id": "ecaeffbe-046b-4735-b066-2b61b30f0753",
   "metadata": {},
   "outputs": [],
   "source": [
    "from scapy.all import sniff, IP\n",
    "import logging\n",
    "from datetime import datetime\n",
    "\n",
    "# Configure logging to log to a file\n",
    "logging.basicConfig(\n",
    "    filename=\"traffic_log.txt\",\n",
    "    level=logging.INFO,\n",
    "    format=\"%(asctime)s - %(message)s\",\n",
    "    datefmt=\"%Y-%m-%d %H:%M:%S\",\n",
    ")\n",
    "\n",
    "def log_packet(packet):\n",
    "    \"\"\"Callback to log source and destination IPs of captured packets.\"\"\"\n",
    "    if IP in packet:\n",
    "        src_ip = packet[IP].src\n",
    "        dest_ip = packet[IP].dst\n",
    "        logging.info(f\"Source: {src_ip}, Destination: {dest_ip}\")\n",
    "\n",
    "def main():\n",
    "    print(\"Starting packet sniffer... Press Ctrl+C to stop.\")\n",
    "    try:\n",
    "        # Sniff packets on all interfaces, filtering for IP traffic\n",
    "        sniff(filter=\"ip\", prn=log_packet, store=False)\n",
    "    except KeyboardInterrupt:\n",
    "        print(\"\\nSniffer stopped.\")\n",
    "    except PermissionError:\n",
    "        print(\"Run the script as an administrator (sudo on Linux).\")\n",
    "    except Exception as e:\n",
    "        print(f\"An error occurred: {e}\")"
   ]
  },
  {
   "cell_type": "code",
   "execution_count": 10,
   "id": "4f10fbd9-09e3-4da1-927c-eddd7f338043",
   "metadata": {},
   "outputs": [
    {
     "name": "stdout",
     "output_type": "stream",
     "text": [
      "Starting packet sniffer... Press Ctrl+C to stop.\n",
      "An error occurred: Permission denied: could not open /dev/bpf0. Make sure to be running Scapy as root ! (sudo)\n"
     ]
    }
   ],
   "source": [
    "main()"
   ]
  },
  {
   "cell_type": "code",
   "execution_count": 8,
   "id": "2a703214-db03-4d87-9c54-56c5ce1d2e37",
   "metadata": {},
   "outputs": [
    {
     "name": "stdout",
     "output_type": "stream",
     "text": [
      "Password:\n",
      "sudo: a password is required\n"
     ]
    }
   ],
   "source": []
  },
  {
   "cell_type": "code",
   "execution_count": null,
   "id": "df72ba71-ccba-46cf-bcda-ea543dffe238",
   "metadata": {},
   "outputs": [],
   "source": []
  },
  {
   "cell_type": "code",
   "execution_count": null,
   "id": "1691b8f4-a54f-4c35-b6f6-f18b1ee039f8",
   "metadata": {},
   "outputs": [],
   "source": []
  }
 ],
 "metadata": {
  "kernelspec": {
   "display_name": "Python 3 (ipykernel)",
   "language": "python",
   "name": "python3"
  },
  "language_info": {
   "codemirror_mode": {
    "name": "ipython",
    "version": 3
   },
   "file_extension": ".py",
   "mimetype": "text/x-python",
   "name": "python",
   "nbconvert_exporter": "python",
   "pygments_lexer": "ipython3",
   "version": "3.12.7"
  }
 },
 "nbformat": 4,
 "nbformat_minor": 5
}
